{
 "cells": [
  {
   "cell_type": "code",
   "execution_count": 1,
   "id": "protected-mumbai",
   "metadata": {},
   "outputs": [],
   "source": [
    "import numpy as np\n",
    "import statsmodels as sm\n",
    "from scipy.special import ndtr, ndtri\n",
    "import numba\n",
    "import statsmodels.api as smapi\n",
    "import statsmodels as sm\n",
    "from statsmodels.tsa.arima.model import ARIMA\n",
    "import functools as ft"
   ]
  },
  {
   "cell_type": "code",
   "execution_count": 19,
   "id": "checked-framework",
   "metadata": {},
   "outputs": [],
   "source": [
    "M_not = {\"A\" : {\"A\" : 0.7, \"B\" : 0.29, \"N\" : 0.01},\n",
    "                     \"B\" : {\"A\" : 0.3, \"B\" : 0.65, \"N\" : 0.05},\n",
    "                     \"N\" : {\"A\" : 0.0, \"B\" : 0.0, \"N\" : 1.0}}\n",
    "\n",
    "nb_notes = 10\n",
    "\n",
    "def make_transition_matrix(n_notes):\n",
    "    M = np.random.default_rng().dirichlet(np.ones(n_notes), size = n_notes)\n",
    "    M[-1] = np.zeros(n_notes)\n",
    "    M[-1][-1] = 1\n",
    "    return M\n",
    "\n",
    "M = make_transition_matrix(nb_notes)\n",
    "dict_note = { 0 : \"A\", 1 : \"B\", 2 : \"N\"}\n",
    "gen = np.random.default_rng()"
   ]
  },
  {
   "cell_type": "code",
   "execution_count": 20,
   "id": "junior-architect",
   "metadata": {},
   "outputs": [],
   "source": [
    "def dict_translate(dic, lst):\n",
    "    return [dic[k] for k in lst]"
   ]
  },
  {
   "cell_type": "code",
   "execution_count": 21,
   "id": "employed-legislation",
   "metadata": {},
   "outputs": [],
   "source": [
    "@numba.jit(nopython = True)\n",
    "def transitions(M, current, u):\n",
    "    n = len(u)\n",
    "    res = np.zeros(n + 1 , dtype = 'byte')\n",
    "    res[0] = current\n",
    "    for i in range(n) :\n",
    "        res[i + 1] = np.searchsorted(M[res[i]], u[i]) \n",
    "    return res"
   ]
  },
  {
   "cell_type": "code",
   "execution_count": 22,
   "id": "historical-header",
   "metadata": {},
   "outputs": [],
   "source": [
    "# U = ndtr(np.random.normal(size = 25))\n",
    "# %timeit transitions(M_cumul, 0, U)\n",
    "# 1.04 µs ± 40.6 ns per loop (mean ± std. dev. of 7 runs, 1000000 loops each)"
   ]
  },
  {
   "cell_type": "code",
   "execution_count": 23,
   "id": "editorial-youth",
   "metadata": {},
   "outputs": [],
   "source": [
    "# transitions(M_cumul, 0, U)\n",
    "# array([0, 6, 3, 3, 4, 6, 9, 9, 9, 9, 9, 9, 9, 9, 9, 9, 9, 9, 9, 9, 9, 9,\n",
    "#        9, 9, 9, 9], dtype=int8)"
   ]
  },
  {
   "cell_type": "code",
   "execution_count": 84,
   "id": "formal-dylan",
   "metadata": {},
   "outputs": [],
   "source": []
  },
  {
   "cell_type": "code",
   "execution_count": 94,
   "id": "charitable-dependence",
   "metadata": {},
   "outputs": [],
   "source": [
    "class LatentVarModel:\n",
    "    def __init__(self, n_dates, n_ind, rho, ar = [], ma = []):\n",
    "        self.gen = np.random.default_rng()\n",
    "        self.n_dates = n_dates\n",
    "        self.n_ind = n_ind\n",
    "        self.ar, self.ma = np.r_[1, -np.array(ar)], np.r_[1, np.array(ma)]\n",
    "        self.rho = rho\n",
    "        \n",
    "    def _simulate_risk_factor(self, size):\n",
    "        return smapi.tsa.arma_generate_sample(self.ar, self.ma, distrvs = self.gen.standard_normal, \\\n",
    "                                                  nsample = (size, 1, self.n_dates), axis = 1, burnin = 1000)\n",
    "     \n",
    "    def simulate(self, size = 1):\n",
    "        Xt = self._simulate_risk_factor(size)\n",
    "        eps = gen.standard_normal(size = (size, n_ind, n_dates))\n",
    "        U = ndtr(np.sqrt(rho) * Xt + np.sqrt(1 - rho) * eps)\n",
    "        return U\n",
    "\n",
    "    def simulate_transitions(self, transition_matrix, ind_notes, size = 1):\n",
    "        M = transition_matrix.cumsum(axis = 1)\n",
    "        U = self.simulate(size)\n",
    "        return np.array(\n",
    "                          [[transitions(M, note, U[sce][ind]) for ind, note in enumerate(ind_notes)] for sce in range(size)]\\\n",
    "                          , dtype = 'byte'\n",
    "                        )"
   ]
  },
  {
   "cell_type": "code",
   "execution_count": 104,
   "id": "innocent-arrangement",
   "metadata": {},
   "outputs": [],
   "source": [
    "n_dates = 25\n",
    "n_ind = 10000\n",
    "rho = gen.uniform(size = (n_ind, 1))\n",
    "rho = np.ones((n_ind, 1))\n",
    "ind_notes = gen.integers(nb_notes, size = n_ind)\n",
    "lvm = LatentVarModel(n_dates, n_ind, rho, ar = [0.8, -0.5, 0.1], ma = [-0.1, -0.2, 0.1])"
   ]
  },
  {
   "cell_type": "code",
   "execution_count": 109,
   "id": "proved-sustainability",
   "metadata": {},
   "outputs": [
    {
     "data": {
      "text/plain": [
       "array([[[1, 8, 7, ..., 9, 9, 9],\n",
       "        [0, 9, 9, ..., 9, 9, 9],\n",
       "        [1, 8, 7, ..., 9, 9, 9],\n",
       "        ...,\n",
       "        [6, 9, 9, ..., 9, 9, 9],\n",
       "        [1, 8, 7, ..., 9, 9, 9],\n",
       "        [7, 9, 9, ..., 9, 9, 9]],\n",
       "\n",
       "       [[1, 2, 8, ..., 9, 9, 9],\n",
       "        [0, 1, 8, ..., 9, 9, 9],\n",
       "        [1, 2, 8, ..., 9, 9, 9],\n",
       "        ...,\n",
       "        [6, 0, 6, ..., 9, 9, 9],\n",
       "        [1, 2, 8, ..., 9, 9, 9],\n",
       "        [7, 1, 8, ..., 9, 9, 9]],\n",
       "\n",
       "       [[1, 1, 7, ..., 9, 9, 9],\n",
       "        [0, 1, 7, ..., 9, 9, 9],\n",
       "        [1, 1, 7, ..., 9, 9, 9],\n",
       "        ...,\n",
       "        [6, 0, 4, ..., 9, 9, 9],\n",
       "        [1, 1, 7, ..., 9, 9, 9],\n",
       "        [7, 1, 7, ..., 9, 9, 9]]], dtype=int8)"
      ]
     },
     "execution_count": 109,
     "metadata": {},
     "output_type": "execute_result"
    }
   ],
   "source": [
    "lvm.simulate_transitions(M, ind_notes, size = 3)"
   ]
  },
  {
   "cell_type": "code",
   "execution_count": 106,
   "id": "wooden-recording",
   "metadata": {},
   "outputs": [
    {
     "data": {
      "text/plain": [
       "array([[[0.45911818, 0.31744105, 0.6727205 , ..., 0.71160034,\n",
       "         0.57677627, 0.2913161 ],\n",
       "        [0.45911818, 0.31744105, 0.6727205 , ..., 0.71160034,\n",
       "         0.57677627, 0.2913161 ],\n",
       "        [0.45911818, 0.31744105, 0.6727205 , ..., 0.71160034,\n",
       "         0.57677627, 0.2913161 ],\n",
       "        ...,\n",
       "        [0.45911818, 0.31744105, 0.6727205 , ..., 0.71160034,\n",
       "         0.57677627, 0.2913161 ],\n",
       "        [0.45911818, 0.31744105, 0.6727205 , ..., 0.71160034,\n",
       "         0.57677627, 0.2913161 ],\n",
       "        [0.45911818, 0.31744105, 0.6727205 , ..., 0.71160034,\n",
       "         0.57677627, 0.2913161 ]],\n",
       "\n",
       "       [[0.14705843, 0.80203115, 0.4776578 , ..., 0.83199542,\n",
       "         0.62819243, 0.59479402],\n",
       "        [0.14705843, 0.80203115, 0.4776578 , ..., 0.83199542,\n",
       "         0.62819243, 0.59479402],\n",
       "        [0.14705843, 0.80203115, 0.4776578 , ..., 0.83199542,\n",
       "         0.62819243, 0.59479402],\n",
       "        ...,\n",
       "        [0.14705843, 0.80203115, 0.4776578 , ..., 0.83199542,\n",
       "         0.62819243, 0.59479402],\n",
       "        [0.14705843, 0.80203115, 0.4776578 , ..., 0.83199542,\n",
       "         0.62819243, 0.59479402],\n",
       "        [0.14705843, 0.80203115, 0.4776578 , ..., 0.83199542,\n",
       "         0.62819243, 0.59479402]]])"
      ]
     },
     "execution_count": 106,
     "metadata": {},
     "output_type": "execute_result"
    }
   ],
   "source": [
    "lvm.simulate(size = 2)"
   ]
  },
  {
   "cell_type": "code",
   "execution_count": 102,
   "id": "apart-straight",
   "metadata": {},
   "outputs": [
    {
     "data": {
      "text/plain": [
       "array([[0.01731391, 0.07476733, 0.04588106, 0.14765442, 0.2481505 ,\n",
       "        0.01112573, 0.14167493, 0.08989913, 0.05941776, 0.16411522],\n",
       "       [0.03460406, 0.01220418, 0.03942001, 0.16124134, 0.07223065,\n",
       "        0.04372568, 0.02925691, 0.25592682, 0.3072107 , 0.04417965],\n",
       "       [0.09112769, 0.07009545, 0.12839587, 0.0133589 , 0.17584407,\n",
       "        0.01460983, 0.03127027, 0.01122427, 0.36698999, 0.09708365],\n",
       "       [0.19070025, 0.23441343, 0.01005198, 0.02656116, 0.18591286,\n",
       "        0.02865609, 0.01822684, 0.08600465, 0.13542528, 0.08404746],\n",
       "       [0.01586868, 0.11600339, 0.13581729, 0.09238566, 0.03037787,\n",
       "        0.3793827 , 0.00316155, 0.08297157, 0.04782364, 0.09620765],\n",
       "       [0.02424776, 0.26326697, 0.02681204, 0.16884625, 0.12031544,\n",
       "        0.14212536, 0.01851012, 0.02516622, 0.1173065 , 0.09340333],\n",
       "       [0.2957837 , 0.01366666, 0.1063904 , 0.03228361, 0.06538424,\n",
       "        0.04084827, 0.0220597 , 0.09947844, 0.0155678 , 0.30853718],\n",
       "       [0.02919165, 0.06835479, 0.04663259, 0.04965214, 0.05389037,\n",
       "        0.23436348, 0.08951943, 0.06751299, 0.25539665, 0.10548591],\n",
       "       [0.26481177, 0.26582852, 0.0497903 , 0.10540114, 0.01599533,\n",
       "        0.00202513, 0.0255169 , 0.24316762, 0.02418748, 0.00327581],\n",
       "       [0.        , 0.        , 0.        , 0.        , 0.        ,\n",
       "        0.        , 0.        , 0.        , 0.        , 1.        ]])"
      ]
     },
     "execution_count": 102,
     "metadata": {},
     "output_type": "execute_result"
    }
   ],
   "source": [
    "M"
   ]
  },
  {
   "cell_type": "code",
   "execution_count": null,
   "id": "verified-employment",
   "metadata": {},
   "outputs": [],
   "source": []
  },
  {
   "cell_type": "code",
   "execution_count": null,
   "id": "elementary-queensland",
   "metadata": {},
   "outputs": [],
   "source": []
  }
 ],
 "metadata": {
  "kernelspec": {
   "display_name": "Python 3",
   "language": "python",
   "name": "python3"
  },
  "language_info": {
   "codemirror_mode": {
    "name": "ipython",
    "version": 3
   },
   "file_extension": ".py",
   "mimetype": "text/x-python",
   "name": "python",
   "nbconvert_exporter": "python",
   "pygments_lexer": "ipython3",
   "version": "3.9.2"
  }
 },
 "nbformat": 4,
 "nbformat_minor": 5
}
